{
 "cells": [
  {
   "cell_type": "code",
   "execution_count": 3,
   "id": "5d809996-8156-48e0-bab4-287d4d73f8ff",
   "metadata": {},
   "outputs": [],
   "source": [
    "import pandas as pd\n",
    "data_url = 'https://cf-courses-data.s3.us.cloud-object-storage.appdomain.cloud/n01PQ9pSmiRX6520flujwQ/survey-data.csv'\n",
    "df = pd.read_csv(data_url)\n",
    "# Split the column into multiple rows\n",
    "df['LanguageHaveWorkedWith'] = df['LanguageHaveWorkedWith'].str.split(';')\n",
    "df = df.explode('LanguageHaveWorkedWith').reset_index(drop=True)\n",
    "df['LanguageHaveWorkedWith'] = df['LanguageHaveWorkedWith'].str.strip()\n",
    "df_t1 = df['LanguageHaveWorkedWith']\n",
    "df_t1.to_csv('transformed_1.csv', index=False)\n"
   ]
  },
  {
   "cell_type": "code",
   "execution_count": 4,
   "id": "2c92d6be-b853-4bd0-9a28-448161bf0ed3",
   "metadata": {},
   "outputs": [],
   "source": [
    "import pandas as pd\n",
    "data_url = 'https://cf-courses-data.s3.us.cloud-object-storage.appdomain.cloud/n01PQ9pSmiRX6520flujwQ/survey-data.csv'\n",
    "df = pd.read_csv(data_url)\n",
    "# Split the column into multiple rows\n",
    "df['DatabaseHaveWorkedWith'] = df['DatabaseHaveWorkedWith'].str.split(';')\n",
    "df = df.explode('DatabaseHaveWorkedWith').reset_index(drop=True)\n",
    "df['DatabaseHaveWorkedWith'] = df['DatabaseHaveWorkedWith'].str.strip()\n",
    "df_t1 = df['DatabaseHaveWorkedWith']\n",
    "df_t1.to_csv('transformed_2.csv', index=False)"
   ]
  },
  {
   "cell_type": "code",
   "execution_count": 5,
   "id": "ffe9d4dc-9ec6-402a-9980-30406408582e",
   "metadata": {},
   "outputs": [],
   "source": [
    "import pandas as pd\n",
    "data_url = 'https://cf-courses-data.s3.us.cloud-object-storage.appdomain.cloud/n01PQ9pSmiRX6520flujwQ/survey-data.csv'\n",
    "df = pd.read_csv(data_url)\n",
    "# Split the column into multiple rows\n",
    "df['PlatformHaveWorkedWith'] = df['PlatformHaveWorkedWith'].str.split(';')\n",
    "df = df.explode('PlatformHaveWorkedWith').reset_index(drop=True)\n",
    "df['PlatformHaveWorkedWith'] = df['PlatformHaveWorkedWith'].str.strip()\n",
    "df_t1 = df['PlatformHaveWorkedWith']\n",
    "df_t1.to_csv('transformed_3.csv', index=False)"
   ]
  },
  {
   "cell_type": "code",
   "execution_count": 53,
   "id": "7e6d3a23-1536-44dc-a5b7-cadce7231908",
   "metadata": {},
   "outputs": [],
   "source": [
    "import pandas as pd\n",
    "data_url = 'https://cf-courses-data.s3.us.cloud-object-storage.appdomain.cloud/n01PQ9pSmiRX6520flujwQ/survey-data.csv'\n",
    "df = pd.read_csv(data_url)\n",
    "# Split the column into multiple rows\n",
    "df['WebframeHaveWorkedWith'] = df['WebframeHaveWorkedWith'].str.split(';')\n",
    "df = df.explode('WebframeHaveWorkedWith').reset_index(drop=True)\n",
    "df['WebframeHaveWorkedWith'] = df['WebframeHaveWorkedWith'].str.strip()\n",
    "df_t1 = df['WebframeHaveWorkedWith']\n",
    "df_t1.to_csv('transformed_4.csv', index=False)"
   ]
  },
  {
   "cell_type": "code",
   "execution_count": null,
   "id": "7143eb3b-9587-4d77-a659-d9f758b03be9",
   "metadata": {},
   "outputs": [],
   "source": []
  },
  {
   "cell_type": "code",
   "execution_count": 39,
   "id": "7168d7fd-72c9-402d-9184-a90e8cc329b4",
   "metadata": {},
   "outputs": [],
   "source": [
    "import pandas as pd\n",
    "data_url = 'https://cf-courses-data.s3.us.cloud-object-storage.appdomain.cloud/n01PQ9pSmiRX6520flujwQ/survey-data.csv'\n",
    "df = pd.read_csv(data_url)\n",
    "# Split the column into multiple rows\n",
    "df['LanguageWantToWorkWith'] = df['LanguageWantToWorkWith'].str.split(';')\n",
    "df = df.explode('LanguageWantToWorkWith').reset_index(drop=True)\n",
    "df['LanguageWantToWorkWith'] = df['LanguageWantToWorkWith'].str.strip()\n",
    "df_t1 = df['LanguageWantToWorkWith']\n",
    "df_t1.to_csv('transformed_11.csv', index=False)\n",
    "\n"
   ]
  },
  {
   "cell_type": "code",
   "execution_count": 49,
   "id": "8e9bc1e7-7381-4eac-954e-db090b70dbea",
   "metadata": {},
   "outputs": [],
   "source": [
    "import pandas as pd\n",
    "data_url = 'https://cf-courses-data.s3.us.cloud-object-storage.appdomain.cloud/n01PQ9pSmiRX6520flujwQ/survey-data.csv'\n",
    "df = pd.read_csv(data_url)\n",
    "# Split the column into multiple rows\n",
    "df['DatabaseWantToWorkWith'] = df['DatabaseWantToWorkWith'].str.split(';')\n",
    "df = df.explode('DatabaseWantToWorkWith').reset_index(drop=True)\n",
    "df['DatabaseWantToWorkWith'] = df['DatabaseWantToWorkWith'].str.strip()\n",
    "df_t1 = df['DatabaseWantToWorkWith']\n",
    "df_t1.dropna(inplace= True)\n",
    "df_t1.isnull().sum()\n",
    "df_t1.to_csv('transformed_22.csv', index=False)"
   ]
  },
  {
   "cell_type": "code",
   "execution_count": 41,
   "id": "1da82d39-390c-494c-abe3-a726bee919a0",
   "metadata": {},
   "outputs": [],
   "source": [
    "import pandas as pd\n",
    "data_url = 'https://cf-courses-data.s3.us.cloud-object-storage.appdomain.cloud/n01PQ9pSmiRX6520flujwQ/survey-data.csv'\n",
    "df = pd.read_csv(data_url)\n",
    "# Split the column into multiple rows\n",
    "df['PlatformWantToWorkWith'] = df['PlatformWantToWorkWith'].str.split(';')\n",
    "df = df.explode('PlatformWantToWorkWith').reset_index(drop=True)\n",
    "df['PlatformWantToWorkWith'] = df['PlatformWantToWorkWith'].str.strip()\n",
    "df_t1 = df['PlatformWantToWorkWith']\n",
    "df_t1.to_csv('transformed_33.csv', index=False)"
   ]
  },
  {
   "cell_type": "code",
   "execution_count": 42,
   "id": "90b8777a-6d03-410e-9f4e-76d8fb7a3293",
   "metadata": {},
   "outputs": [],
   "source": [
    "import pandas as pd\n",
    "data_url = 'https://cf-courses-data.s3.us.cloud-object-storage.appdomain.cloud/n01PQ9pSmiRX6520flujwQ/survey-data.csv'\n",
    "df = pd.read_csv(data_url)\n",
    "# Split the column into multiple rows\n",
    "df['WebframeWantToWorkWith'] = df['WebframeWantToWorkWith'].str.split(';')\n",
    "df = df.explode('WebframeWantToWorkWith').reset_index(drop=True)\n",
    "df['WebframeWantToWorkWith'] = df['WebframeWantToWorkWith'].str.strip()\n",
    "df_t1 = df['WebframeWantToWorkWith']\n",
    "df_t1.to_csv('transformed_44.csv', index=False)"
   ]
  },
  {
   "cell_type": "code",
   "execution_count": null,
   "id": "d657d3a7-ff06-4576-92b6-09addbcb4e62",
   "metadata": {},
   "outputs": [],
   "source": []
  }
 ],
 "metadata": {
  "kernelspec": {
   "display_name": "Python 3 (ipykernel)",
   "language": "python",
   "name": "python3"
  },
  "language_info": {
   "codemirror_mode": {
    "name": "ipython",
    "version": 3
   },
   "file_extension": ".py",
   "mimetype": "text/x-python",
   "name": "python",
   "nbconvert_exporter": "python",
   "pygments_lexer": "ipython3",
   "version": "3.9.20"
  }
 },
 "nbformat": 4,
 "nbformat_minor": 5
}
